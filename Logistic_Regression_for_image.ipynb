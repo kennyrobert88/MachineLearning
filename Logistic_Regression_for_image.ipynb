{
  "nbformat": 4,
  "nbformat_minor": 0,
  "metadata": {
    "colab": {
      "provenance": [],
      "authorship_tag": "ABX9TyPz09LGjVoRm/zevvzXlk5+",
      "include_colab_link": true
    },
    "kernelspec": {
      "name": "python3",
      "display_name": "Python 3"
    },
    "language_info": {
      "name": "python"
    }
  },
  "cells": [
    {
      "cell_type": "markdown",
      "metadata": {
        "id": "view-in-github",
        "colab_type": "text"
      },
      "source": [
        "<a href=\"https://colab.research.google.com/github/kennyrobert88/MachineLearning/blob/main/Logistic_Regression_for_image.ipynb\" target=\"_parent\"><img src=\"https://colab.research.google.com/assets/colab-badge.svg\" alt=\"Open In Colab\"/></a>"
      ]
    },
    {
      "cell_type": "markdown",
      "source": [
        "Starting with Modules to Import, we will be using tensorflow, and MNIST datasets."
      ],
      "metadata": {
        "id": "r7lSZ6Zs70Uz"
      }
    },
    {
      "cell_type": "code",
      "execution_count": 15,
      "metadata": {
        "id": "4P2icwQV7l0T"
      },
      "outputs": [],
      "source": [
        "# Imports\n",
        "import torch\n",
        "import torchvision\n",
        "from torchvision.datasets import MNIST\n",
        "import matplotlib.pyplot as plt\n",
        "%matplotlib inline\n",
        "import torchvision.transforms as transforms\n",
        "from torch.utils.data import random_split\n",
        "import torch.nn as nn\n",
        "import torch.nn.functional as F"
      ]
    },
    {
      "cell_type": "markdown",
      "source": [
        "Import datasets and manage datasets."
      ],
      "metadata": {
        "id": "feicD4LW8I-8"
      }
    },
    {
      "cell_type": "code",
      "source": [
        "# Download training dataset and transform to tensors\n",
        "dataset = MNIST(\n",
        "    root='data/',\n",
        "    download=True,\n",
        "    train=True,\n",
        "    transform=transforms.ToTensor()\n",
        "    )"
      ],
      "metadata": {
        "id": "PSN7VqWU8paW"
      },
      "execution_count": 16,
      "outputs": []
    },
    {
      "cell_type": "markdown",
      "source": [
        "We can try to look at the example of data using matplotlib"
      ],
      "metadata": {
        "id": "lG9ySE3d93U1"
      }
    },
    {
      "cell_type": "markdown",
      "source": [
        "Spliting the dataset into 3 parts.\n",
        "- Training Set: used to train model\n",
        "- Validation Set: used to evaluate model while training\n",
        "- Test Set: using to compare different model"
      ],
      "metadata": {
        "id": "so4dc5dF_eW2"
      }
    },
    {
      "cell_type": "code",
      "source": [
        "# Load one of the data\n",
        "image_tensor, image_label = dataset[0]\n",
        "print(\"Image Label:\", image_label)\n",
        "plt.imshow(image_tensor[0], cmap='gray')"
      ],
      "metadata": {
        "colab": {
          "base_uri": "https://localhost:8080/",
          "height": 466
        },
        "id": "CDeKKrHP-Ar3",
        "outputId": "72e51f0a-a472-4c14-c1d7-1dc1876e74c4"
      },
      "execution_count": 17,
      "outputs": [
        {
          "output_type": "stream",
          "name": "stdout",
          "text": [
            "Image Label: 5\n"
          ]
        },
        {
          "output_type": "execute_result",
          "data": {
            "text/plain": [
              "<matplotlib.image.AxesImage at 0x7e09b4a959f0>"
            ]
          },
          "metadata": {},
          "execution_count": 17
        },
        {
          "output_type": "display_data",
          "data": {
            "text/plain": [
              "<Figure size 640x480 with 1 Axes>"
            ],
            "image/png": "[encoded data removed]"
          },
          "metadata": {}
        }
      ]
    },
    {
      "cell_type": "code",
      "source": [
        "# Load one of the data\n",
        "image_tensor, image_label = dataset[1]\n",
        "print(\"Image Label:\", image_label)\n",
        "plt.imshow(image_tensor[0], cmap='gray')"
      ],
      "metadata": {
        "colab": {
          "base_uri": "https://localhost:8080/",
          "height": 466
        },
        "id": "7XCgpXvJrTVX",
        "outputId": "c0b8cad4-cf02-4e62-f5a5-2de598fe64c2"
      },
      "execution_count": 18,
      "outputs": [
        {
          "output_type": "stream",
          "name": "stdout",
          "text": [
            "Image Label: 0\n"
          ]
        },
        {
          "output_type": "execute_result",
          "data": {
            "text/plain": [
              "<matplotlib.image.AxesImage at 0x7e09b16271f0>"
            ]
          },
          "metadata": {},
          "execution_count": 18
        },
        {
          "output_type": "display_data",
          "data": {
            "text/plain": [
              "<Figure size 640x480 with 1 Axes>"
            ],
            "image/png": "[encoded data removed]"
          },
          "metadata": {}
        }
      ]
    },
    {
      "cell_type": "markdown",
      "source": [
        "Datasets split into 3:\n",
        "- Training Set: Used to train model.\n",
        "- Validation Set: Used to evaluate model while training.\n",
        "- Test Set: Used to compare different model."
      ],
      "metadata": {
        "id": "hH02Jlx2kCJO"
      }
    },
    {
      "cell_type": "code",
      "source": [
        "from torch.utils.data import random_split\n",
        "# Random split for the data\n",
        "train_ds, validation_ds = random_split(dataset, [50000, 10000])\n",
        "print(\"Number of Training Data:\", len(train_ds))\n",
        "print(\"Number of Validation Data:\", len(validation_ds))"
      ],
      "metadata": {
        "colab": {
          "base_uri": "https://localhost:8080/"
        },
        "id": "i7asrDkCqdhm",
        "outputId": "c192930e-52bc-4a34-8b5b-f123d5e96548"
      },
      "execution_count": 19,
      "outputs": [
        {
          "output_type": "stream",
          "name": "stdout",
          "text": [
            "Number of Training Data: 50000\n",
            "Number of Validation Data: 10000\n"
          ]
        }
      ]
    },
    {
      "cell_type": "markdown",
      "source": [
        "Training data as a batch"
      ],
      "metadata": {
        "id": "wpnJT_pE6qUg"
      }
    },
    {
      "cell_type": "code",
      "source": [
        "from torch.utils .data import DataLoader\n",
        "\n",
        "batch_size = 128\n",
        "train_loader = DataLoader(train_ds, batch_size, shuffle=True)\n",
        "validation_loader = DataLoader(validation_ds, batch_size)"
      ],
      "metadata": {
        "id": "OYn8wml35ffx"
      },
      "execution_count": 20,
      "outputs": []
    },
    {
      "cell_type": "markdown",
      "source": [
        "- Flatten out the tensors\n",
        "- Each tensors has 28 * 28 dimensions to be 784"
      ],
      "metadata": {
        "id": "OmgI3Lm4_xu6"
      }
    },
    {
      "cell_type": "code",
      "source": [
        "class MnistModel(nn.Module):\n",
        "    def __init__(self):\n",
        "        super().__init__()\n",
        "        self.linear = nn.Linear(input_size, num_classes)\n",
        "\n",
        "    def forward(self, xb):\n",
        "        xb = xb.reshape(-1, 784)\n",
        "        out = self.linear(xb)\n",
        "        return out\n",
        "\n",
        "    # Function to evaluate the overall loss and accuracy\n",
        "    def evaluate(self, model, val_loader):\n",
        "      outputs = [model.validation_step(batch) for batch in val_loader]\n",
        "      return model.validation_epoch_end(outputs)\n",
        "\n",
        "    # Function to calcuate accuracy of the model\n",
        "    def accuracy(self, outputs, labels):\n",
        "      _, preds = torch.max(outputs, dim=1)\n",
        "      return torch.tensor(torch.sum(preds == labels).item() / len(preds))\n",
        "\n",
        "    # Function to training step of the machine learning\n",
        "    def training_step(self, batch):\n",
        "        images, labels = batch\n",
        "        out = self(images)                  # Generate predictions\n",
        "        loss = F.cross_entropy(out, labels) # Calculate loss\n",
        "        return loss\n",
        "\n",
        "    # Function to validate the machine learning model\n",
        "    def validation_step(self, batch):\n",
        "        images, labels = batch\n",
        "        out = self(images)                    # Generate predictions\n",
        "        loss = F.cross_entropy(out, labels)   # Calculate loss\n",
        "        acc = self.accuracy(out, labels)      # Calculate accuracy\n",
        "        return {'val_loss': loss, 'val_acc': acc}\n",
        "\n",
        "    def validation_epoch_end(self, outputs):\n",
        "        batch_losses = [x['val_loss'] for x in outputs]\n",
        "        epoch_loss = torch.stack(batch_losses).mean()   # Combine losses\n",
        "        batch_accs = [x['val_acc'] for x in outputs]\n",
        "        epoch_acc = torch.stack(batch_accs).mean()      # Combine accuracies\n",
        "        return {'val_loss': epoch_loss.item(), 'val_acc': epoch_acc.item()}\n",
        "\n",
        "    def epoch_end(self, epoch, result):\n",
        "        print(\"Epoch [{}], val_loss: {:.4f}, val_acc: {:.4f}\".format(epoch, result['val_loss'], result['val_acc']))\n",
        "\n",
        "# Defining input_size and num_classes\n",
        "input_size = 28 * 28\n",
        "num_classes = 10\n",
        "model = MnistModel()"
      ],
      "metadata": {
        "id": "48s-o2mtpCJl"
      },
      "execution_count": 24,
      "outputs": []
    },
    {
      "cell_type": "markdown",
      "source": [
        "fit function to train the model"
      ],
      "metadata": {
        "id": "IW6ZZ5rFq7Dp"
      }
    },
    {
      "cell_type": "code",
      "source": [
        "# fit function to train model using\n",
        "def fit(epochs, lr, model, train_loader, val_loader, opt_func=torch.optim.SGD):\n",
        "    optimizer = opt_func(model.parameters(), lr)\n",
        "    history = [] # for recording epoch-wise results\n",
        "\n",
        "    for epoch in range(epochs):\n",
        "\n",
        "        # Training Phase\n",
        "        for batch in train_loader:\n",
        "            loss = model.training_step(batch)\n",
        "            loss.backward()\n",
        "            optimizer.step()\n",
        "            optimizer.zero_grad()\n",
        "\n",
        "        # Validation phase\n",
        "        result = model.evaluate(model, val_loader)\n",
        "        model.epoch_end(epoch, result)\n",
        "        history.append(result)\n",
        "\n",
        "    return history"
      ],
      "metadata": {
        "id": "Rzmo8pwBrmPt"
      },
      "execution_count": 22,
      "outputs": []
    },
    {
      "cell_type": "markdown",
      "source": [
        "Define fit function to train data with 10 epoch."
      ],
      "metadata": {
        "id": "5j7UQWQMtngH"
      }
    },
    {
      "cell_type": "code",
      "source": [
        "# Train data for 10 epoch\n",
        "# Approx about 1 minutes\n",
        "history = fit(10, 0.001, model, train_loader, validation_loader)"
      ],
      "metadata": {
        "colab": {
          "base_uri": "https://localhost:8080/"
        },
        "id": "5gNOcfagts5C",
        "outputId": "20731eb0-3a86-4573-d899-6040c6a33ed7"
      },
      "execution_count": 25,
      "outputs": [
        {
          "output_type": "stream",
          "name": "stdout",
          "text": [
            "Epoch [0], val_loss: 1.9482, val_acc: 0.6149\n",
            "Epoch [1], val_loss: 1.6789, val_acc: 0.7285\n",
            "Epoch [2], val_loss: 1.4776, val_acc: 0.7602\n",
            "Epoch [3], val_loss: 1.3255, val_acc: 0.7812\n",
            "Epoch [4], val_loss: 1.2087, val_acc: 0.7940\n",
            "Epoch [5], val_loss: 1.1169, val_acc: 0.8037\n",
            "Epoch [6], val_loss: 1.0432, val_acc: 0.8132\n",
            "Epoch [7], val_loss: 0.9831, val_acc: 0.8185\n",
            "Epoch [8], val_loss: 0.9330, val_acc: 0.8226\n",
            "Epoch [9], val_loss: 0.8907, val_acc: 0.8268\n"
          ]
        }
      ]
    },
    {
      "cell_type": "code",
      "source": [
        "# Train data for 100 epoch\n",
        "history = fit(100, 0.001, model, train_loader, validation_loader)"
      ],
      "metadata": {
        "colab": {
          "base_uri": "https://localhost:8080/"
        },
        "id": "ysYMDICbuuz5",
        "outputId": "fa5aaa61-b4c4-4c5c-fd74-c422d2dc81c6"
      },
      "execution_count": 26,
      "outputs": [
        {
          "output_type": "stream",
          "name": "stdout",
          "text": [
            "Epoch [0], val_loss: 0.8544, val_acc: 0.8301\n",
            "Epoch [1], val_loss: 0.8231, val_acc: 0.8329\n",
            "Epoch [2], val_loss: 0.7957, val_acc: 0.8359\n",
            "Epoch [3], val_loss: 0.7714, val_acc: 0.8386\n",
            "Epoch [4], val_loss: 0.7498, val_acc: 0.8408\n",
            "Epoch [5], val_loss: 0.7305, val_acc: 0.8436\n",
            "Epoch [6], val_loss: 0.7130, val_acc: 0.8459\n",
            "Epoch [7], val_loss: 0.6972, val_acc: 0.8489\n",
            "Epoch [8], val_loss: 0.6827, val_acc: 0.8509\n",
            "Epoch [9], val_loss: 0.6695, val_acc: 0.8525\n",
            "Epoch [10], val_loss: 0.6573, val_acc: 0.8538\n",
            "Epoch [11], val_loss: 0.6461, val_acc: 0.8549\n",
            "Epoch [12], val_loss: 0.6356, val_acc: 0.8559\n",
            "Epoch [13], val_loss: 0.6260, val_acc: 0.8573\n",
            "Epoch [14], val_loss: 0.6169, val_acc: 0.8578\n",
            "Epoch [15], val_loss: 0.6085, val_acc: 0.8602\n",
            "Epoch [16], val_loss: 0.6006, val_acc: 0.8619\n",
            "Epoch [17], val_loss: 0.5931, val_acc: 0.8624\n",
            "Epoch [18], val_loss: 0.5861, val_acc: 0.8633\n",
            "Epoch [19], val_loss: 0.5795, val_acc: 0.8647\n",
            "Epoch [20], val_loss: 0.5732, val_acc: 0.8655\n",
            "Epoch [21], val_loss: 0.5673, val_acc: 0.8662\n",
            "Epoch [22], val_loss: 0.5617, val_acc: 0.8666\n",
            "Epoch [23], val_loss: 0.5563, val_acc: 0.8673\n",
            "Epoch [24], val_loss: 0.5512, val_acc: 0.8677\n",
            "Epoch [25], val_loss: 0.5464, val_acc: 0.8681\n",
            "Epoch [26], val_loss: 0.5418, val_acc: 0.8686\n",
            "Epoch [27], val_loss: 0.5373, val_acc: 0.8691\n",
            "Epoch [28], val_loss: 0.5331, val_acc: 0.8702\n",
            "Epoch [29], val_loss: 0.5290, val_acc: 0.8707\n",
            "Epoch [30], val_loss: 0.5251, val_acc: 0.8713\n",
            "Epoch [31], val_loss: 0.5214, val_acc: 0.8719\n",
            "Epoch [32], val_loss: 0.5179, val_acc: 0.8723\n",
            "Epoch [33], val_loss: 0.5144, val_acc: 0.8725\n",
            "Epoch [34], val_loss: 0.5111, val_acc: 0.8731\n",
            "Epoch [35], val_loss: 0.5079, val_acc: 0.8737\n",
            "Epoch [36], val_loss: 0.5048, val_acc: 0.8740\n",
            "Epoch [37], val_loss: 0.5018, val_acc: 0.8746\n",
            "Epoch [38], val_loss: 0.4989, val_acc: 0.8751\n",
            "Epoch [39], val_loss: 0.4962, val_acc: 0.8752\n",
            "Epoch [40], val_loss: 0.4934, val_acc: 0.8757\n",
            "Epoch [41], val_loss: 0.4909, val_acc: 0.8767\n",
            "Epoch [42], val_loss: 0.4883, val_acc: 0.8771\n",
            "Epoch [43], val_loss: 0.4859, val_acc: 0.8775\n",
            "Epoch [44], val_loss: 0.4835, val_acc: 0.8777\n",
            "Epoch [45], val_loss: 0.4812, val_acc: 0.8781\n",
            "Epoch [46], val_loss: 0.4790, val_acc: 0.8787\n",
            "Epoch [47], val_loss: 0.4768, val_acc: 0.8793\n",
            "Epoch [48], val_loss: 0.4747, val_acc: 0.8793\n",
            "Epoch [49], val_loss: 0.4727, val_acc: 0.8795\n",
            "Epoch [50], val_loss: 0.4707, val_acc: 0.8801\n",
            "Epoch [51], val_loss: 0.4687, val_acc: 0.8805\n",
            "Epoch [52], val_loss: 0.4669, val_acc: 0.8809\n",
            "Epoch [53], val_loss: 0.4650, val_acc: 0.8816\n",
            "Epoch [54], val_loss: 0.4632, val_acc: 0.8819\n",
            "Epoch [55], val_loss: 0.4615, val_acc: 0.8823\n",
            "Epoch [56], val_loss: 0.4598, val_acc: 0.8824\n",
            "Epoch [57], val_loss: 0.4581, val_acc: 0.8827\n",
            "Epoch [58], val_loss: 0.4565, val_acc: 0.8830\n",
            "Epoch [59], val_loss: 0.4549, val_acc: 0.8837\n",
            "Epoch [60], val_loss: 0.4534, val_acc: 0.8839\n",
            "Epoch [61], val_loss: 0.4519, val_acc: 0.8840\n",
            "Epoch [62], val_loss: 0.4504, val_acc: 0.8842\n",
            "Epoch [63], val_loss: 0.4489, val_acc: 0.8845\n",
            "Epoch [64], val_loss: 0.4475, val_acc: 0.8847\n",
            "Epoch [65], val_loss: 0.4462, val_acc: 0.8851\n",
            "Epoch [66], val_loss: 0.4448, val_acc: 0.8853\n",
            "Epoch [67], val_loss: 0.4435, val_acc: 0.8858\n",
            "Epoch [68], val_loss: 0.4422, val_acc: 0.8858\n",
            "Epoch [69], val_loss: 0.4409, val_acc: 0.8859\n",
            "Epoch [70], val_loss: 0.4397, val_acc: 0.8858\n",
            "Epoch [71], val_loss: 0.4385, val_acc: 0.8863\n",
            "Epoch [72], val_loss: 0.4373, val_acc: 0.8865\n",
            "Epoch [73], val_loss: 0.4361, val_acc: 0.8868\n",
            "Epoch [74], val_loss: 0.4350, val_acc: 0.8868\n",
            "Epoch [75], val_loss: 0.4338, val_acc: 0.8869\n",
            "Epoch [76], val_loss: 0.4327, val_acc: 0.8872\n",
            "Epoch [77], val_loss: 0.4317, val_acc: 0.8873\n",
            "Epoch [78], val_loss: 0.4306, val_acc: 0.8873\n",
            "Epoch [79], val_loss: 0.4295, val_acc: 0.8877\n",
            "Epoch [80], val_loss: 0.4285, val_acc: 0.8878\n",
            "Epoch [81], val_loss: 0.4275, val_acc: 0.8879\n",
            "Epoch [82], val_loss: 0.4265, val_acc: 0.8884\n",
            "Epoch [83], val_loss: 0.4255, val_acc: 0.8885\n",
            "Epoch [84], val_loss: 0.4246, val_acc: 0.8887\n",
            "Epoch [85], val_loss: 0.4237, val_acc: 0.8884\n",
            "Epoch [86], val_loss: 0.4227, val_acc: 0.8887\n",
            "Epoch [87], val_loss: 0.4218, val_acc: 0.8890\n",
            "Epoch [88], val_loss: 0.4209, val_acc: 0.8889\n",
            "Epoch [89], val_loss: 0.4201, val_acc: 0.8891\n",
            "Epoch [90], val_loss: 0.4192, val_acc: 0.8893\n",
            "Epoch [91], val_loss: 0.4184, val_acc: 0.8897\n",
            "Epoch [92], val_loss: 0.4175, val_acc: 0.8898\n",
            "Epoch [93], val_loss: 0.4167, val_acc: 0.8900\n",
            "Epoch [94], val_loss: 0.4159, val_acc: 0.8900\n",
            "Epoch [95], val_loss: 0.4151, val_acc: 0.8902\n",
            "Epoch [96], val_loss: 0.4143, val_acc: 0.8903\n",
            "Epoch [97], val_loss: 0.4135, val_acc: 0.8906\n",
            "Epoch [98], val_loss: 0.4128, val_acc: 0.8907\n",
            "Epoch [99], val_loss: 0.4120, val_acc: 0.8905\n"
          ]
        }
      ]
    },
    {
      "cell_type": "markdown",
      "source": [
        "- Using training dataset"
      ],
      "metadata": {
        "id": "tNEiFuccyU5J"
      }
    },
    {
      "cell_type": "code",
      "source": [
        "# Define test dataset\n",
        "test_dataset = MNIST(root='data/',\n",
        "                     train=False,\n",
        "                     transform=transforms.ToTensor())\n",
        "\n",
        "test_loader = DataLoader(test_dataset, batch_size=256)\n",
        "result = model.evaluate(model, test_loader)\n",
        "result\n",
        "# The accuracy of .89"
      ],
      "metadata": {
        "colab": {
          "base_uri": "https://localhost:8080/"
        },
        "id": "lZfVuVR9yoX9",
        "outputId": "2f18a9bd-b6bd-4cfd-dee4-2bc12381bfb8"
      },
      "execution_count": 29,
      "outputs": [
        {
          "output_type": "execute_result",
          "data": {
            "text/plain": [
              "{'val_loss': 0.3826894760131836, 'val_acc': 0.899707019329071}"
            ]
          },
          "metadata": {},
          "execution_count": 29
        }
      ]
    }
  ]
}